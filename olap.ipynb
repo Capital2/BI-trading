{
 "cells": [
  {
   "cell_type": "markdown",
   "metadata": {},
   "source": [
    "# Initialization"
   ]
  },
  {
   "cell_type": "code",
   "execution_count": 1,
   "metadata": {},
   "outputs": [],
   "source": [
    "from OLAP.market_activity_cube import MarketActivityCube"
   ]
  },
  {
   "cell_type": "code",
   "execution_count": 2,
   "metadata": {},
   "outputs": [
    {
     "name": "stdout",
     "output_type": "stream",
     "text": [
      "                              name  share       date    open    high     low  \\\n",
      "id                                                                             \n",
      "14  A SPAC II Acquisition Corp. Rt  ASCBR 2022-12-09    0.06    0.06    0.06   \n",
      "30  A SPAC II Acquisition Corp. Rt  ASCBR 2023-01-18   0.068   0.068   0.068   \n",
      "42  A SPAC II Acquisition Corp. Rt  ASCBR 2023-02-27  0.1007  0.1075     0.1   \n",
      "56  A SPAC II Acquisition Corp. Rt  ASCBR 2023-04-12  0.0801  0.0801  0.0801   \n",
      "71  A SPAC II Acquisition Corp. Rt  ASCBR 2023-06-02  0.0888  0.0888  0.0825   \n",
      "\n",
      "     close   volume       SMA        RSI        OBV  \n",
      "id                                                   \n",
      "14    0.06  19500.0  0.061683  43.550793   -84845.0  \n",
      "30   0.068    109.0  0.069008  50.901245    -1332.0  \n",
      "42  0.1075  21166.0  0.104617   54.53677   629194.0  \n",
      "56  0.0801   2645.0  0.092317  45.846398   537882.0  \n",
      "71   0.088  26623.0  0.108092  45.864801  1659511.0  \n",
      "<class 'atoti.table.Table'>\n"
     ]
    }
   ],
   "source": [
    "ma_cube = MarketActivityCube()\n",
    "ma_cube.get_table()\n",
    "ma_cube.create_cube()"
   ]
  },
  {
   "cell_type": "code",
   "execution_count": 3,
   "metadata": {},
   "outputs": [
    {
     "data": {
      "application/json": {
       "market_activity": {
        "date": [
         "date"
        ],
        "id": [
         "id"
        ],
        "name": [
         "name"
        ],
        "share": [
         "share"
        ]
       }
      },
      "text/html": [
       "<ul>\n",
       "<li>Dimensions\n",
       "  <ul>\n",
       "  <li>market_activity\n",
       "    <ul>\n",
       "    <li>date\n",
       "      <ol>\n",
       "      <li>date</li>\n",
       "      </ol>    </li>\n",
       "    <li>id\n",
       "      <ol>\n",
       "      <li>id</li>\n",
       "      </ol>    </li>\n",
       "    <li>name\n",
       "      <ol>\n",
       "      <li>name</li>\n",
       "      </ol>    </li>\n",
       "    <li>share\n",
       "      <ol>\n",
       "      <li>share</li>\n",
       "      </ol>    </li>\n",
       "    </ul>\n",
       "  </li>\n",
       "  </ul>\n",
       "</li>\n",
       "</ul>\n"
      ],
      "text/plain": [
       "{('market_activity', 'id'): <atoti.hierarchy.Hierarchy object at 0x000002C4F8C85D50>, ('market_activity', 'share'): <atoti.hierarchy.Hierarchy object at 0x000002C4F8C85F50>, ('market_activity', 'name'): <atoti.hierarchy.Hierarchy object at 0x000002C4F8C86090>, ('market_activity', 'date'): <atoti.hierarchy.Hierarchy object at 0x000002C4F8C861D0>}"
      ]
     },
     "execution_count": 3,
     "metadata": {
      "application/json": {
       "expanded": true,
       "root": "Dimensions"
      }
     },
     "output_type": "execute_result"
    }
   ],
   "source": [
    "ma_cube.hierarchies"
   ]
  },
  {
   "cell_type": "code",
   "execution_count": 4,
   "metadata": {},
   "outputs": [
    {
     "data": {
      "application/json": {
       "OBV.MEAN": {
        "formatter": "DOUBLE[#,###.00]"
       },
       "OBV.SUM": {
        "formatter": "DOUBLE[#,###.00]"
       },
       "RSI.MEAN": {
        "formatter": "DOUBLE[#,###.00]"
       },
       "RSI.SUM": {
        "formatter": "DOUBLE[#,###.00]"
       },
       "SMA.MEAN": {
        "formatter": "DOUBLE[#,###.00]"
       },
       "SMA.SUM": {
        "formatter": "DOUBLE[#,###.00]"
       },
       "close.MEAN": {
        "formatter": "DOUBLE[#,###.00]"
       },
       "close.SUM": {
        "formatter": "DOUBLE[#,###.00]"
       },
       "contributors.COUNT": {
        "formatter": "INT[#,###]"
       },
       "high.MEAN": {
        "formatter": "DOUBLE[#,###.00]"
       },
       "high.SUM": {
        "formatter": "DOUBLE[#,###.00]"
       },
       "low.MEAN": {
        "formatter": "DOUBLE[#,###.00]"
       },
       "low.SUM": {
        "formatter": "DOUBLE[#,###.00]"
       },
       "open.MEAN": {
        "formatter": "DOUBLE[#,###.00]"
       },
       "open.SUM": {
        "formatter": "DOUBLE[#,###.00]"
       },
       "volume.MEAN": {
        "formatter": "DOUBLE[#,###.00]"
       },
       "volume.SUM": {
        "formatter": "DOUBLE[#,###.00]"
       }
      },
      "text/html": [
       "<ul>\n",
       "<li>Measures\n",
       "  <ul>\n",
       "  <li>OBV.MEAN\n",
       "    <ul>\n",
       "    <li>formatter: DOUBLE[#,###.00]</li>\n",
       "    </ul>\n",
       "  </li>\n",
       "  <li>OBV.SUM\n",
       "    <ul>\n",
       "    <li>formatter: DOUBLE[#,###.00]</li>\n",
       "    </ul>\n",
       "  </li>\n",
       "  <li>RSI.MEAN\n",
       "    <ul>\n",
       "    <li>formatter: DOUBLE[#,###.00]</li>\n",
       "    </ul>\n",
       "  </li>\n",
       "  <li>RSI.SUM\n",
       "    <ul>\n",
       "    <li>formatter: DOUBLE[#,###.00]</li>\n",
       "    </ul>\n",
       "  </li>\n",
       "  <li>SMA.MEAN\n",
       "    <ul>\n",
       "    <li>formatter: DOUBLE[#,###.00]</li>\n",
       "    </ul>\n",
       "  </li>\n",
       "  <li>SMA.SUM\n",
       "    <ul>\n",
       "    <li>formatter: DOUBLE[#,###.00]</li>\n",
       "    </ul>\n",
       "  </li>\n",
       "  <li>close.MEAN\n",
       "    <ul>\n",
       "    <li>formatter: DOUBLE[#,###.00]</li>\n",
       "    </ul>\n",
       "  </li>\n",
       "  <li>close.SUM\n",
       "    <ul>\n",
       "    <li>formatter: DOUBLE[#,###.00]</li>\n",
       "    </ul>\n",
       "  </li>\n",
       "  <li>contributors.COUNT\n",
       "    <ul>\n",
       "    <li>formatter: INT[#,###]</li>\n",
       "    </ul>\n",
       "  </li>\n",
       "  <li>high.MEAN\n",
       "    <ul>\n",
       "    <li>formatter: DOUBLE[#,###.00]</li>\n",
       "    </ul>\n",
       "  </li>\n",
       "  <li>high.SUM\n",
       "    <ul>\n",
       "    <li>formatter: DOUBLE[#,###.00]</li>\n",
       "    </ul>\n",
       "  </li>\n",
       "  <li>low.MEAN\n",
       "    <ul>\n",
       "    <li>formatter: DOUBLE[#,###.00]</li>\n",
       "    </ul>\n",
       "  </li>\n",
       "  <li>low.SUM\n",
       "    <ul>\n",
       "    <li>formatter: DOUBLE[#,###.00]</li>\n",
       "    </ul>\n",
       "  </li>\n",
       "  <li>open.MEAN\n",
       "    <ul>\n",
       "    <li>formatter: DOUBLE[#,###.00]</li>\n",
       "    </ul>\n",
       "  </li>\n",
       "  <li>open.SUM\n",
       "    <ul>\n",
       "    <li>formatter: DOUBLE[#,###.00]</li>\n",
       "    </ul>\n",
       "  </li>\n",
       "  <li>volume.MEAN\n",
       "    <ul>\n",
       "    <li>formatter: DOUBLE[#,###.00]</li>\n",
       "    </ul>\n",
       "  </li>\n",
       "  <li>volume.SUM\n",
       "    <ul>\n",
       "    <li>formatter: DOUBLE[#,###.00]</li>\n",
       "    </ul>\n",
       "  </li>\n",
       "  </ul>\n",
       "</li>\n",
       "</ul>\n"
      ],
      "text/plain": [
       "{'contributors.COUNT': <atoti.measure.Measure object at 0x000002C4F8C9D150>, 'update.TIMESTAMP': <atoti.measure.Measure object at 0x000002C4F8C9D210>, 'high.SUM': <atoti.measure.Measure object at 0x000002C4F8C9D250>, 'high.MEAN': <atoti.measure.Measure object at 0x000002C4F8C9D290>, 'OBV.SUM': <atoti.measure.Measure object at 0x000002C4F8C9D2D0>, 'OBV.MEAN': <atoti.measure.Measure object at 0x000002C4F8C9D310>, 'SMA.SUM': <atoti.measure.Measure object at 0x000002C4F8C9D350>, 'SMA.MEAN': <atoti.measure.Measure object at 0x000002C4F8C9D390>, 'low.SUM': <atoti.measure.Measure object at 0x000002C4F8C9D3D0>, 'low.MEAN': <atoti.measure.Measure object at 0x000002C4F8C9D410>, 'open.SUM': <atoti.measure.Measure object at 0x000002C4F8C9D450>, 'open.MEAN': <atoti.measure.Measure object at 0x000002C4F8C9D490>, 'volume.SUM': <atoti.measure.Measure object at 0x000002C4F8C9D4D0>, 'volume.MEAN': <atoti.measure.Measure object at 0x000002C4F8C9D510>, 'close.SUM': <atoti.measure.Measure object at 0x000002C4F8C9D550>, 'close.MEAN': <atoti.measure.Measure object at 0x000002C4F8C9D590>, 'RSI.SUM': <atoti.measure.Measure object at 0x000002C4F8C9D5D0>, 'RSI.MEAN': <atoti.measure.Measure object at 0x000002C4F8C9D610>}"
      ]
     },
     "execution_count": 4,
     "metadata": {
      "application/json": {
       "expanded": false,
       "root": "Measures"
      }
     },
     "output_type": "execute_result"
    }
   ],
   "source": [
    "ma_cube.measures"
   ]
  },
  {
   "cell_type": "code",
   "execution_count": 5,
   "metadata": {},
   "outputs": [
    {
     "data": {
      "application/json": {
       "date (market_activity/date/date)": {
        "dimension": "market_activity",
        "hierarchy": "date",
        "order": "NaturalOrder",
        "type": "LocalDate"
       },
       "id (market_activity/id/id)": {
        "dimension": "market_activity",
        "hierarchy": "id",
        "order": "NaturalOrder",
        "type": "int"
       },
       "name (market_activity/name/name)": {
        "dimension": "market_activity",
        "hierarchy": "name",
        "order": "NaturalOrder",
        "type": "String"
       },
       "share (market_activity/share/share)": {
        "dimension": "market_activity",
        "hierarchy": "share",
        "order": "NaturalOrder",
        "type": "String"
       }
      },
      "text/html": [
       "<ul>\n",
       "<li>Levels\n",
       "  <ul>\n",
       "  <li>date (market_activity/date/date)\n",
       "    <ul>\n",
       "    <li>dimension: market_activity</li>\n",
       "    <li>hierarchy: date</li>\n",
       "    <li>type: LocalDate</li>\n",
       "    <li>order: NaturalOrder</li>\n",
       "    </ul>\n",
       "  </li>\n",
       "  <li>id (market_activity/id/id)\n",
       "    <ul>\n",
       "    <li>dimension: market_activity</li>\n",
       "    <li>hierarchy: id</li>\n",
       "    <li>type: int</li>\n",
       "    <li>order: NaturalOrder</li>\n",
       "    </ul>\n",
       "  </li>\n",
       "  <li>name (market_activity/name/name)\n",
       "    <ul>\n",
       "    <li>dimension: market_activity</li>\n",
       "    <li>hierarchy: name</li>\n",
       "    <li>type: String</li>\n",
       "    <li>order: NaturalOrder</li>\n",
       "    </ul>\n",
       "  </li>\n",
       "  <li>share (market_activity/share/share)\n",
       "    <ul>\n",
       "    <li>dimension: market_activity</li>\n",
       "    <li>hierarchy: share</li>\n",
       "    <li>type: String</li>\n",
       "    <li>order: NaturalOrder</li>\n",
       "    </ul>\n",
       "  </li>\n",
       "  </ul>\n",
       "</li>\n",
       "</ul>\n"
      ],
      "text/plain": [
       "<atoti.levels.Levels at 0x2c4f8c65c90>"
      ]
     },
     "execution_count": 5,
     "metadata": {
      "application/json": {
       "expanded": true,
       "root": "Levels"
      }
     },
     "output_type": "execute_result"
    }
   ],
   "source": [
    "ma_cube.levels"
   ]
  },
  {
   "cell_type": "markdown",
   "metadata": {},
   "source": [
    "# Analysis"
   ]
  },
  {
   "cell_type": "code",
   "execution_count": 8,
   "metadata": {},
   "outputs": [
    {
     "data": {
      "text/html": [
       "<div>\n",
       "<style scoped>\n",
       "    .dataframe tbody tr th:only-of-type {\n",
       "        vertical-align: middle;\n",
       "    }\n",
       "\n",
       "    .dataframe tbody tr th {\n",
       "        vertical-align: top;\n",
       "    }\n",
       "\n",
       "    .dataframe thead th {\n",
       "        text-align: right;\n",
       "    }\n",
       "</style>\n",
       "<table border=\"1\" class=\"dataframe\">\n",
       "  <thead>\n",
       "    <tr style=\"text-align: right;\">\n",
       "      <th></th>\n",
       "      <th>contributors.COUNT</th>\n",
       "    </tr>\n",
       "    <tr>\n",
       "      <th>name</th>\n",
       "      <th></th>\n",
       "    </tr>\n",
       "  </thead>\n",
       "  <tbody>\n",
       "    <tr>\n",
       "      <th>180 Life Sciences Corp. Wt</th>\n",
       "      <td>250</td>\n",
       "    </tr>\n",
       "    <tr>\n",
       "      <th>1st Constitution Bancorp</th>\n",
       "      <td>132</td>\n",
       "    </tr>\n",
       "    <tr>\n",
       "      <th>A SPAC II Acquisition Corp. Rt</th>\n",
       "      <td>134</td>\n",
       "    </tr>\n",
       "    <tr>\n",
       "      <th>Acco Brands Corp.</th>\n",
       "      <td>252</td>\n",
       "    </tr>\n",
       "    <tr>\n",
       "      <th>GameStop Corp. Cl A</th>\n",
       "      <td>252</td>\n",
       "    </tr>\n",
       "  </tbody>\n",
       "</table>\n",
       "</div>"
      ],
      "text/plain": [
       "                               contributors.COUNT\n",
       "name                                             \n",
       "180 Life Sciences Corp. Wt                    250\n",
       "1st Constitution Bancorp                      132\n",
       "A SPAC II Acquisition Corp. Rt                134\n",
       "Acco Brands Corp.                             252\n",
       "GameStop Corp. Cl A                           252"
      ]
     },
     "execution_count": 8,
     "metadata": {},
     "output_type": "execute_result"
    }
   ],
   "source": [
    "# Number of market activities per contributor\n",
    "ma_cube.cube.query(ma_cube.measures[\"contributors.COUNT\"], levels=[ma_cube.levels[\"name\"]])"
   ]
  },
  {
   "cell_type": "code",
   "execution_count": 9,
   "metadata": {},
   "outputs": [
    {
     "data": {
      "text/html": [
       "<div>\n",
       "<style scoped>\n",
       "    .dataframe tbody tr th:only-of-type {\n",
       "        vertical-align: middle;\n",
       "    }\n",
       "\n",
       "    .dataframe tbody tr th {\n",
       "        vertical-align: top;\n",
       "    }\n",
       "\n",
       "    .dataframe thead th {\n",
       "        text-align: right;\n",
       "    }\n",
       "</style>\n",
       "<table border=\"1\" class=\"dataframe\">\n",
       "  <thead>\n",
       "    <tr style=\"text-align: right;\">\n",
       "      <th></th>\n",
       "      <th>volume.SUM</th>\n",
       "    </tr>\n",
       "    <tr>\n",
       "      <th>name</th>\n",
       "      <th></th>\n",
       "    </tr>\n",
       "  </thead>\n",
       "  <tbody>\n",
       "    <tr>\n",
       "      <th>180 Life Sciences Corp. Wt</th>\n",
       "      <td>28,135,822.00</td>\n",
       "    </tr>\n",
       "    <tr>\n",
       "      <th>1st Constitution Bancorp</th>\n",
       "      <td>766,710.00</td>\n",
       "    </tr>\n",
       "    <tr>\n",
       "      <th>A SPAC II Acquisition Corp. Rt</th>\n",
       "      <td>7,034,811.00</td>\n",
       "    </tr>\n",
       "    <tr>\n",
       "      <th>Acco Brands Corp.</th>\n",
       "      <td>149,464,932.00</td>\n",
       "    </tr>\n",
       "    <tr>\n",
       "      <th>GameStop Corp. Cl A</th>\n",
       "      <td>1,040,128,187.00</td>\n",
       "    </tr>\n",
       "  </tbody>\n",
       "</table>\n",
       "</div>"
      ],
      "text/plain": [
       "                                      volume.SUM\n",
       "name                                            \n",
       "180 Life Sciences Corp. Wt         28,135,822.00\n",
       "1st Constitution Bancorp              766,710.00\n",
       "A SPAC II Acquisition Corp. Rt      7,034,811.00\n",
       "Acco Brands Corp.                 149,464,932.00\n",
       "GameStop Corp. Cl A             1,040,128,187.00"
      ]
     },
     "execution_count": 9,
     "metadata": {},
     "output_type": "execute_result"
    }
   ],
   "source": [
    "# Sum of the volume per contributor\n",
    "ma_cube.cube.query(ma_cube.measures[\"volume.SUM\"], levels=[ma_cube.levels[\"name\"]])"
   ]
  }
 ],
 "metadata": {
  "kernelspec": {
   "display_name": "venv",
   "language": "python",
   "name": "python3"
  },
  "language_info": {
   "codemirror_mode": {
    "name": "ipython",
    "version": 3
   },
   "file_extension": ".py",
   "mimetype": "text/x-python",
   "name": "python",
   "nbconvert_exporter": "python",
   "pygments_lexer": "ipython3",
   "version": "3.11.3"
  }
 },
 "nbformat": 4,
 "nbformat_minor": 2
}
